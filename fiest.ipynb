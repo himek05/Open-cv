{
 "cells": [
  {
   "cell_type": "code",
   "execution_count": 1,
   "metadata": {},
   "outputs": [],
   "source": [
    "import cv2\n",
    "import numpy as np"
   ]
  },
  {
   "cell_type": "code",
   "execution_count": 2,
   "metadata": {},
   "outputs": [],
   "source": [
    "# img = cv2.imread(\"img3.jpg\")\n",
    "# cv2.imshow(\"myimg\", img)\n",
    "# cv2.imshow(\"myimgh1\", img)\n",
    "# cv2.waitKey(0)  \n",
    "# cv2.destroyAllWindows()\n",
    "\n",
    "# cv2.destroyWindow(hash"
   ]
  },
  {
   "cell_type": "code",
   "execution_count": 3,
   "metadata": {},
   "outputs": [],
   "source": [
    "# img = cv2.imread(\"img3.jpg\")\n",
    "# re_img = cv2.resize(img,(900,700))\n",
    "# cv2.imshow(\"myimg\",re_img)\n",
    "# cv2.waitKey(0)\n",
    "# cv2.destroyAllWindows()"
   ]
  },
  {
   "cell_type": "code",
   "execution_count": null,
   "metadata": {},
   "outputs": [],
   "source": []
  },
  {
   "cell_type": "code",
   "execution_count": 4,
   "metadata": {},
   "outputs": [],
   "source": [
    "# img = cv2.imread(\"img2.jpg\")\n",
    "# re_img = cv2.resize(img,(700,500))\n",
    "# # h = np.hstack((re_img,re_img))\n",
    "# h = np.vstack((re_img,re_img))\n",
    "# cv2.imshow(\"myimg\",h)\n",
    "# cv2.waitKey(0)\n",
    "# cv2.destroyAllWindows()"
   ]
  },
  {
   "cell_type": "code",
   "execution_count": 5,
   "metadata": {},
   "outputs": [],
   "source": [
    "# img = cv2.imread(\"img2.jpg\")\n",
    "# re_img = cv2.resize(img,(300,300))\n",
    "# h = np.hstack((re_img,re_img,re_img))\n",
    "# v = np.vstack((h,h))\n",
    "# cv2.imshow(\"myimg\",v)\n",
    "# cv2.waitKey(0)\n",
    "# cv2.destroyAllWindows()"
   ]
  },
  {
   "cell_type": "code",
   "execution_count": 6,
   "metadata": {},
   "outputs": [],
   "source": [
    "# list_name = ['img1.jpg','img2.jpg','img3.jpg']\n",
    "# for name in list_name:\n",
    "#     path = \"C:\\\\Users\\\\himek\\\\Desktop\\\\opencv\"\n",
    "#     img_name = path + \"\\\\\" + name\n",
    "#     img = cv2.imread(img_name)\n",
    "#     img = cv2.resize(img,(500,600))\n",
    "#     cv2.imshow(\"myimg\",img)\n",
    "#     cv2.waitKey(0)\n",
    "# cv2.destroyAllWindows()"
   ]
  },
  {
   "cell_type": "code",
   "execution_count": 7,
   "metadata": {},
   "outputs": [],
   "source": [
    "# img = cv2.imread(\"img3.jpg\",0)\n",
    "# re_img = cv2.resize(img,(600,400))\n",
    "# cv2.imshow(\"myimg\", img)\n",
    "# cv2.waitKey(0)  \n",
    "# cv2.destroyAllWindows()"
   ]
  },
  {
   "cell_type": "code",
   "execution_count": 8,
   "metadata": {},
   "outputs": [],
   "source": [
    "# img = cv2.imread(\"pot.jpg\")\n",
    "# re_img = cv2.resize(img,(600,600))\n",
    "\n",
    "\n",
    "\n",
    "# txt = cv2.putText(img = re_img,\n",
    "# text = \"90%\",\n",
    "# org = (200,200),\n",
    "# fontFace = cv2.FONT_HERSHEY_DUPLEX,\n",
    "# fontScale = 3,\n",
    "# color = (255,192,0),\n",
    "# thickness = 3,\n",
    "# lineType = cv2.LINE_8,\n",
    "# bottomLeftOrigin = False)\n",
    "\n",
    "# cv2.imshow(\"Pothole\", re_img)\n",
    "# cv2.waitKey(0)  \n",
    "# cv2.destroyAllWindows()"
   ]
  },
  {
   "cell_type": "code",
   "execution_count": 9,
   "metadata": {},
   "outputs": [],
   "source": [
    "# old_img = cv2.imread(\"pot.jpg\")\n",
    "# re_img = cv2.resize(img,(600,600))\n",
    "\n",
    "# new_img = cv2.line(img = old_img, pt1 = (150,190), pt2 = (250,200), color = (0,255,0), thickness = 4, lineType =4)\n",
    "\n",
    "# cv2.imshow(\"myimg\",new_img)\n",
    "# cv2.waitKey(0)\n",
    "# cv2.destroyAllWindows()"
   ]
  },
  {
   "cell_type": "code",
   "execution_count": 10,
   "metadata": {},
   "outputs": [],
   "source": [
    "# old_img = cv2.imread(\"pot.jpg\")\n",
    "# re_img = cv2.resize(img,(600,600))\n",
    "\n",
    "# new_img = cv2.rectangle(img = old_img, pt1 = (140,300), pt2 = (400,170), color = (0,255,0), thickness = 4, lineType =4)\n",
    "\n",
    "# txt = cv2.putText(img = new_img,\n",
    "# text = \"26%\",\n",
    "# org = (150,150),\n",
    "# fontFace = cv2.FONT_HERSHEY_DUPLEX,\n",
    "# fontScale = 2,\n",
    "# color = (0,0,0),\n",
    "# thickness = 3,\n",
    "# lineType = cv2.LINE_8,\n",
    "# bottomLeftOrigin = False)\n",
    "\n",
    "# cv2.imshow(\"myimg\",new_img)\n",
    "# cv2.waitKey(0)\n",
    "# cv2.destroyAllWindows()"
   ]
  },
  {
   "cell_type": "code",
   "execution_count": 11,
   "metadata": {},
   "outputs": [],
   "source": [
    "# old_img = cv2.imread(\"pot.jpg\")\n",
    "# re_img = cv2.resize(old_img,(600,600))\n",
    "\n",
    "# new_img = cv2.circle(img = re_img, center =  (260,320),radius =  100, color =(0,210,0)  ,thickness = 3 , lineType=16)\n",
    "\n",
    "# cv2.imshow(\"myimg\",new_img)\n",
    "# cv2.waitKey(0)\n",
    "# cv2.destroyAllWindows()"
   ]
  },
  {
   "cell_type": "code",
   "execution_count": 12,
   "metadata": {},
   "outputs": [],
   "source": [
    "# old_img = cv2.imread(\"pot.jpg\")\n",
    "# re_img = cv2.resize(old_img,(600,600))\n",
    "\n",
    "# txt = cv2.putText(img = new_img,\n",
    "# text = \"26%\",\n",
    "# org = (150,150),\n",
    "# fontFace = cv2.FONT_HERSHEY_DUPLEX,\n",
    "# fontScale = 2,\n",
    "# color = (0,0,0),\n",
    "# thickness = 3,\n",
    "# lineType = cv2.LINE_8,\n",
    "# bottomLeftOrigin = False)\n",
    "\n",
    "# new_img = cv2.ellipse(img = txt, center =(260,320), axes = (75,120), angle = 60 , startAngle =0 , endAngle =360 ,\n",
    "#                      color = (0,255,0), thickness = 3 , lineType =16)\n",
    "# cv2.imshow(\"myimg\",new_img)\n",
    "# cv2.waitKey(0)\n",
    "# cv2.destroyAllWindows()"
   ]
  },
  {
   "cell_type": "code",
   "execution_count": 13,
   "metadata": {},
   "outputs": [],
   "source": [
    "# import cv2\n",
    "# import numpy as np\n",
    "\n",
    "# old_img = cv2.imread(\"pot.jpg\")\n",
    "# re_img = cv2.resize(old_img, (600, 600))\n",
    "\n",
    "# points = np.array([[100, 400], [200, 300], [200, 300], [200, 150], [150, 200]])\n",
    "\n",
    "# new_img = cv2.polylines(img=re_img,\n",
    "#                         pts=[points],\n",
    "#                         isClosed=True,\n",
    "#                         color=(0, 255, 0),\n",
    "#                         thickness=4,\n",
    "#                         lineType=cv2.LINE_AA)  \n",
    "\n",
    "# cv2.imshow(\"myimg\", new_img)\n",
    "# cv2.waitKey(0)\n",
    "# cv2.destroyAllWindows()\n"
   ]
  },
  {
   "cell_type": "code",
   "execution_count": 14,
   "metadata": {},
   "outputs": [],
   "source": [
    "# fir_img = cv2.imread(\"img1.jpg\")\n",
    "# sec_img = cv2.imread(\"pot.jpg\")\n",
    "\n",
    "# re_img = cv2.resize(fir_img, (600, 600))\n",
    "# re1_img = cv2.resize(sec_img, (600, 600))\n",
    "\n",
    "# new_img = cv2.addWeighted(re_img,1,re1_img,1,1 )\n",
    "# new_img = cv2.subtract(re_img,re1_img)\n",
    "\n",
    "# cv2.imshow(\"myimg\", new_img)\n",
    "# cv2.waitKey(0)\n",
    "# cv2.destroyAllWindows()"
   ]
  },
  {
   "cell_type": "code",
   "execution_count": 15,
   "metadata": {},
   "outputs": [
    {
     "name": "stdout",
     "output_type": "stream",
     "text": [
      "Resized Image Shape: (700, 900, 3)\n",
      "Canny Image Shape: (700, 900)\n"
     ]
    }
   ],
   "source": [
    "import cv2\n",
    "\n",
    "# Load and resize the image\n",
    "img = cv2.imread(\"pot.jpg\")\n",
    "re_img = cv2.resize(img, (900, 700))\n",
    "print(\"Resized Image Shape:\", re_img.shape)\n",
    "\n",
    "# Apply Canny edge detection on resized image\n",
    "new_img = cv2.Canny(re_img, 200, 200, apertureSize=3, L2gradient=True)  # Use valid aperture size and spelling\n",
    "print(\"Canny Image Shape:\", new_img.shape)\n",
    "\n",
    "# Display the result\n",
    "cv2.imshow(\"Canny Edge\", new_img)\n",
    "cv2.waitKey(0)\n",
    "cv2.destroyAllWindows()\n"
   ]
  },
  {
   "cell_type": "code",
   "execution_count": null,
   "metadata": {},
   "outputs": [],
   "source": []
  }
 ],
 "metadata": {
  "kernelspec": {
   "display_name": "Python 3",
   "language": "python",
   "name": "python3"
  },
  "language_info": {
   "codemirror_mode": {
    "name": "ipython",
    "version": 3
   },
   "file_extension": ".py",
   "mimetype": "text/x-python",
   "name": "python",
   "nbconvert_exporter": "python",
   "pygments_lexer": "ipython3",
   "version": "3.11.9"
  }
 },
 "nbformat": 4,
 "nbformat_minor": 4
}
