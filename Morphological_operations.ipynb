{
 "cells": [
  {
   "cell_type": "code",
   "execution_count": 5,
   "id": "93459b62",
   "metadata": {},
   "outputs": [],
   "source": [
    "import cv2\n",
    "import numpy as np"
   ]
  },
  {
   "cell_type": "code",
   "execution_count": null,
   "id": "6a04f947",
   "metadata": {},
   "outputs": [],
   "source": [
    "# img = cv2.imread('jimg.jpg')\n",
    "# img = cv2.resize(img, (400, 400))\n",
    "\n",
    "# m = np.ones((5, 5), np.uint8)\n",
    "\n",
    "# # er = cv2.erode(img,m, iterations=1)\n",
    "# dl = cv2.dilate(img, m, iterations=1)\n",
    "\n",
    "# cv2.imshow('image', img)\n",
    "# cv2.imshow('erode', er)\n",
    "# cv2.imshow('dilate', dl)\n",
    "# cv2.waitKey(0)\n",
    "# cv2.destroyAllWindows()"
   ]
  },
  {
   "cell_type": "code",
   "execution_count": null,
   "id": "aa92d911",
   "metadata": {},
   "outputs": [],
   "source": [
    "# img = cv2.imread('jdot.jpg')\n",
    "# img = cv2.resize(img, (400, 400))\n",
    "\n",
    "# k = np.ones((10, 10), np.uint8)\n",
    "\n",
    "# op = cv2.morphologyEx(img, cv2.MORPH_OPEN, k, iterations=1)\n",
    "# op1 = cv2.morphologyEx(img, cv2.MORPH_CLOSE, k, iterations=1)\n",
    "\n",
    "  \n",
    "# cv2.imshow('image', img)\n",
    "# cv2.imshow('open', op)\n",
    "# cv2.imshow('open1', op1)\n",
    "# cv2.waitKey(0)\n",
    "# cv2.destroyAllWindows()"
   ]
  },
  {
   "cell_type": "code",
   "execution_count": null,
   "id": "2d475597",
   "metadata": {},
   "outputs": [],
   "source": [
    "# img = cv2.imread('jdot.jpg')\n",
    "# img = cv2.resize(img, (400, 400))\n",
    "\n",
    "# k = np.ones((5, 5), np.uint8)\n",
    "# op1 = cv2.morphologyEx(img, cv2.MORPH_GRADIENT, k, iterations=1)\n",
    "\n",
    "# cv2.imshow('image', img)\n",
    "# cv2.imshow('open1', op1)\n",
    "# cv2.waitKey(0)\n",
    "# cv2.destroyAllWindows()"
   ]
  },
  {
   "cell_type": "code",
   "execution_count": null,
   "id": "633c72f5",
   "metadata": {},
   "outputs": [],
   "source": [
    "# img = cv2.imread('jdot.jpg')\n",
    "# img = cv2.resize(img, (400, 400))\n",
    "\n",
    "# k = np.ones((30, 30), np.uint8)\n",
    "# op1 = cv2.morphologyEx(img, cv2.MORPH_TOPHAT, k, iterations=1)\n",
    "\n",
    "# cv2.imshow('image', img)\n",
    "# cv2.imshow('open1', op1)\n",
    "# cv2.waitKey(0)\n",
    "# cv2.destroyAllWindows()"
   ]
  },
  {
   "cell_type": "code",
   "execution_count": 26,
   "id": "5c855ea4",
   "metadata": {},
   "outputs": [],
   "source": [
    "img = cv2.imread('jdot.jpg')\n",
    "img = cv2.resize(img, (400, 400))\n",
    "\n",
    "k = np.ones((25, 25), np.uint8)\n",
    "op1 = cv2.morphologyEx(img, cv2.MORPH_BLACKHAT, k, iterations=1)\n",
    "\n",
    "cv2.imshow('image', img)\n",
    "cv2.imshow('open1', op1)\n",
    "cv2.waitKey(0)\n",
    "cv2.destroyAllWindows()"
   ]
  },
  {
   "cell_type": "code",
   "execution_count": null,
   "id": "00ab66bc",
   "metadata": {},
   "outputs": [],
   "source": []
  }
 ],
 "metadata": {
  "kernelspec": {
   "display_name": "Python 3",
   "language": "python",
   "name": "python3"
  },
  "language_info": {
   "codemirror_mode": {
    "name": "ipython",
    "version": 3
   },
   "file_extension": ".py",
   "mimetype": "text/x-python",
   "name": "python",
   "nbconvert_exporter": "python",
   "pygments_lexer": "ipython3",
   "version": "3.11.9"
  }
 },
 "nbformat": 4,
 "nbformat_minor": 5
}
