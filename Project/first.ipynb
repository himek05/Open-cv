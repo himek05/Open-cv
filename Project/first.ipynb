{
 "cells": [
  {
   "cell_type": "code",
   "execution_count": null,
   "id": "0b6c22b8",
   "metadata": {},
   "outputs": [],
   "source": [
    "import cv2\n",
    "import numpy as np\n",
    "\n",
    "def simple_pothole_detection(image_path):\n",
    "    img = cv2.imread(image_path)\n",
    "    gray = cv2.cvtColor(img, cv2.COLOR_BGR2GRAY)\n",
    "    \n",
    "    # ब्लर और थ्रेशोल्ड\n",
    "    blurred = cv2.GaussianBlur(gray, (11, 11), 0)\n",
    "    _, thresh = cv2.threshold(blurred, 0, 255, cv2.THRESH_BINARY_INV + cv2.THRESH_OTSU)\n",
    "    \n",
    "    # कॉन्टूर ढूंढें\n",
    "    contours, _ = cv2.findContours(thresh, cv2.RETR_TREE, cv2.CHAIN_APPROX_SIMPLE)\n",
    "    \n",
    "    for cnt in contours:\n",
    "        area = cv2.contourArea(cnt)\n",
    "        if area > 500:  # सिर्फ बड़े एरिया वाले कॉन्टूर\n",
    "            # बाउंडिंग सर्कल\n",
    "            (x,y), radius = cv2.minEnclosingCircle(cnt)\n",
    "            center = (int(x), int(y))\n",
    "            radius = int(radius)\n",
    "            \n",
    "            # कॉन्फिडेंस स्कोर (एरिया और सर्कुलरिटी के आधार पर)\n",
    "            perimeter = cv2.arcLength(cnt, True)\n",
    "            circularity = 4 * np.pi * (area / (perimeter * perimeter)) if perimeter > 0 else 0\n",
    "            confidence = min(0.99, circularity * 1.5)  # सैंपल कॉन्फिडेंस\n",
    "            \n",
    "            if confidence > 0.4:  # थ्रेशोल्ड\n",
    "                cv2.circle(img, center, radius, (0,255,0), 2)\n",
    "                label = f\"pothole {confidence:.2f}\"\n",
    "                cv2.putText(img, label, (center[0]-50, center[1]-10), \n",
    "                           cv2.FONT_HERSHEY_SIMPLEX, 0.5, (0,255,0), 2)\n",
    "    \n",
    "    cv2.imshow(\"Simple Pothole Detection\", img)\n",
    "    cv2.waitKey(0)\n",
    "    cv2.destroyAllWindows()\n",
    "\n",
    "simple_pothole_detection(\"potholes.jpeg\")"
   ]
  },
  {
   "cell_type": "code",
   "execution_count": null,
   "id": "398b3961",
   "metadata": {},
   "outputs": [
    {
     "ename": "NameError",
     "evalue": "name 'detect' is not defined",
     "output_type": "error",
     "traceback": [
      "\u001b[31m---------------------------------------------------------------------------\u001b[39m",
      "\u001b[31mNameError\u001b[39m                                 Traceback (most recent call last)",
      "\u001b[36mCell\u001b[39m\u001b[36m \u001b[39m\u001b[32mIn[2]\u001b[39m\u001b[32m, line 1\u001b[39m\n\u001b[32m----> \u001b[39m\u001b[32m1\u001b[39m task=\u001b[43mdetect\u001b[49m\n\u001b[32m      2\u001b[39m mode=predict\n\u001b[32m      3\u001b[39m model=yolov8n.pt\n",
      "\u001b[31mNameError\u001b[39m: name 'detect' is not defined"
     ]
    }
   ],
   "source": []
  },
  {
   "cell_type": "code",
   "execution_count": null,
   "id": "038137dd",
   "metadata": {},
   "outputs": [],
   "source": []
  }
 ],
 "metadata": {
  "kernelspec": {
   "display_name": "Python 3",
   "language": "python",
   "name": "python3"
  },
  "language_info": {
   "codemirror_mode": {
    "name": "ipython",
    "version": 3
   },
   "file_extension": ".py",
   "mimetype": "text/x-python",
   "name": "python",
   "nbconvert_exporter": "python",
   "pygments_lexer": "ipython3",
   "version": "3.11.9"
  }
 },
 "nbformat": 4,
 "nbformat_minor": 5
}
