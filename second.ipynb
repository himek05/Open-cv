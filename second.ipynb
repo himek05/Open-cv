{
 "cells": [
  {
   "cell_type": "code",
   "execution_count": 2,
   "id": "39324a73",
   "metadata": {},
   "outputs": [],
   "source": [
    "import cv2\n",
    "import numpy as np"
   ]
  },
  {
   "cell_type": "code",
   "execution_count": 3,
   "id": "c7a82e96",
   "metadata": {},
   "outputs": [],
   "source": [
    "# img = cv2.imread('pot.jpg')\n",
    "# res_img = cv2.resize(img, (640, 480))\n",
    "# w,h = res_img.shape[0],res_img.shape[1]\n",
    "\n",
    "# m = cv2.getRotationMatrix2D((w/2,h/2), 45, 1)\n",
    "# rotated_img = cv2.warpAffine(res_img, m, (h,w))\n",
    "\n",
    "# cv2.imshow('Rotated Image', rotated_img)\n",
    "# cv2.waitKey(0)\n",
    "# cv2.destroyAllWindows()"
   ]
  },
  {
   "cell_type": "code",
   "execution_count": 4,
   "id": "e2f2d88d",
   "metadata": {},
   "outputs": [],
   "source": [
    "# img = cv2.imread('img3.jpg')\n",
    "# res_img = cv2.resize(img, (300, 300))\n",
    "\n",
    "# g = cv2.GaussianBlur(res_img,(7,7),0)\n",
    "# m = cv2.medianBlur(res_img,3)\n",
    "# b= cv2.bilateralFilter(res_img,9,75,75)\n",
    "\n",
    "# h = np.hstack((res_img,g,m,b))\n",
    "# cv2.imshow('Blur Image', h)\n",
    "# cv2.waitKey(0)\n",
    "# cv2.destroyAllWindows()"
   ]
  },
  {
   "cell_type": "code",
   "execution_count": 5,
   "id": "24f0dc0c",
   "metadata": {},
   "outputs": [],
   "source": [
    "# img = cv2.imread('img2.jpg')\n",
    "# res_img = cv2.resize(img, (200, 200))\n",
    "\n",
    "# g = cv2.copyMakeBorder(res_img, 10, 10, 10, 10, cv2.BORDER_CONSTANT, value=(255,0,0))\n",
    "# m = cv2.copyMakeBorder(res_img, 10, 10, 10, 10, cv2.BORDER_DEFAULT,None,value=(255,0,0))\n",
    "\n",
    "# # h = np.hstack((res_img,g,m))\n",
    "# print(g.shape)\n",
    "\n",
    "# cv2.imshow('Blur Image', h)\n",
    "# cv2.waitKey(0)\n",
    "# cv2.destroyAllWindows()"
   ]
  },
  {
   "cell_type": "markdown",
   "id": "bf8de7c0",
   "metadata": {},
   "source": [
    "PLay Video\n"
   ]
  },
  {
   "cell_type": "code",
   "execution_count": null,
   "id": "7bd48a2d",
   "metadata": {},
   "outputs": [],
   "source": [
    "# cap = cv2.VideoCapture(r\"C:\\Users\\himek\\Videos\\video\\kuldeep.mp4\")\n",
    "\n",
    "# while cap.isOpened():\n",
    "#     r, frame = cap.read()\n",
    "#     if r == True:\n",
    "#         cv2.imshow('Video', frame)\n",
    "#         if cv2.waitKey(30) & 0xFF == ord('p'):\n",
    "#             break\n",
    "\n",
    "#     else:\n",
    "#         break\n",
    "\n",
    "# cap.release()\n",
    "# cv2.destroyAllWindows()"
   ]
  },
  {
   "cell_type": "markdown",
   "id": "715bba51",
   "metadata": {},
   "source": [
    "camera "
   ]
  },
  {
   "cell_type": "code",
   "execution_count": null,
   "id": "13b93897",
   "metadata": {},
   "outputs": [],
   "source": [
    "# cap = cv2.VideoCapture(0)\n",
    "\n",
    "# while True:\n",
    "#     ret, frame = cap.read()\n",
    "#     if ret == True:\n",
    "#         frame = cv2.resize(frame, (400, 480))\n",
    "#         cv2.imshow('Video', frame)\n",
    "#         if cv2.waitKey(30) & 0xFF == ord('p'):\n",
    "#             break\n",
    "#     else:   \n",
    "#         break\n",
    "\n",
    "\n",
    "# cap.release()\n",
    "# cv2.destroyAllWindows()"
   ]
  },
  {
   "cell_type": "code",
   "execution_count": 10,
   "id": "fc515b75",
   "metadata": {},
   "outputs": [],
   "source": [
    "cap = cv2.VideoCapture(r\"C:\\Users\\himek\\Videos\\video\\kuldeep.mp4\")\n",
    "\n",
    "while cap.isOpened():\n",
    "    r, frame = cap.read()\n",
    "    if r == True:\n",
    "        cv2.imshow('Video', frame)\n",
    "        if cv2.waitKey(100) & 0xFF == ord('p'):\n",
    "            break\n",
    "\n",
    "    else:\n",
    "        break\n",
    "\n",
    "cap.release()\n",
    "cv2.destroyAllWindows()"
   ]
  },
  {
   "cell_type": "code",
   "execution_count": null,
   "id": "5a184c85",
   "metadata": {},
   "outputs": [],
   "source": []
  }
 ],
 "metadata": {
  "kernelspec": {
   "display_name": "Python 3",
   "language": "python",
   "name": "python3"
  },
  "language_info": {
   "codemirror_mode": {
    "name": "ipython",
    "version": 3
   },
   "file_extension": ".py",
   "mimetype": "text/x-python",
   "name": "python",
   "nbconvert_exporter": "python",
   "pygments_lexer": "ipython3",
   "version": "3.11.9"
  }
 },
 "nbformat": 4,
 "nbformat_minor": 5
}
