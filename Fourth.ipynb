{
 "cells": [
  {
   "cell_type": "code",
   "execution_count": 1,
   "id": "9ef4e942",
   "metadata": {},
   "outputs": [],
   "source": [
    "import cv2"
   ]
  },
  {
   "cell_type": "code",
   "execution_count": null,
   "id": "d0abc312",
   "metadata": {},
   "outputs": [
    {
     "name": "stdout",
     "output_type": "stream",
     "text": [
      "(295, 236, 3)\n",
      "(148, 118, 3)\n",
      "(74, 59, 3)\n"
     ]
    }
   ],
   "source": [
    "# img = cv2.imread('img3.jpg')\n",
    "# print(img.shape)\n",
    "\n",
    "# new = cv2.pyrDown(img)\n",
    "# print(new.shape)\n",
    "\n",
    "# new1 = cv2.pyrDown(new)\n",
    "# print(new1.shape)\n",
    "\n",
    "\n",
    "# cv2.imshow('img', img)\n",
    "# cv2.imshow('new', new)\n",
    "# cv2.imshow('new1', new1)\n",
    "# cv2.waitKey(0)\n",
    "# cv2.destroyAllWindows()"
   ]
  },
  {
   "cell_type": "code",
   "execution_count": 6,
   "id": "17baa5fd",
   "metadata": {},
   "outputs": [
    {
     "name": "stdout",
     "output_type": "stream",
     "text": [
      "(295, 236, 3)\n",
      "(590, 472, 3)\n",
      "(1180, 944, 3)\n"
     ]
    }
   ],
   "source": [
    "img = cv2.imread('img3.jpg')\n",
    "print(img.shape)\n",
    "\n",
    "new = cv2.pyrUp(img)\n",
    "print(new.shape)\n",
    "\n",
    "new1 = cv2.pyrUp(new)\n",
    "print(new1.shape)\n",
    "\n",
    "\n",
    "cv2.imshow('img', img)\n",
    "cv2.imshow('new', new)\n",
    "cv2.imshow('new1', new1)\n",
    "cv2.waitKey(0)\n",
    "cv2.destroyAllWindows()"
   ]
  },
  {
   "cell_type": "code",
   "execution_count": null,
   "id": "4c1eafff",
   "metadata": {},
   "outputs": [],
   "source": []
  }
 ],
 "metadata": {
  "kernelspec": {
   "display_name": "Python 3",
   "language": "python",
   "name": "python3"
  },
  "language_info": {
   "codemirror_mode": {
    "name": "ipython",
    "version": 3
   },
   "file_extension": ".py",
   "mimetype": "text/x-python",
   "name": "python",
   "nbconvert_exporter": "python",
   "pygments_lexer": "ipython3",
   "version": "3.11.9"
  }
 },
 "nbformat": 4,
 "nbformat_minor": 5
}
